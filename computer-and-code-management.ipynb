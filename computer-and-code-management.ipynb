{
 "cells": [
  {
   "cell_type": "code",
   "execution_count": null,
   "id": "7ccf5f7b",
   "metadata": {
    "scrolled": false
   },
   "outputs": [],
   "source": [
    "import ipywidgets as ipw\n",
    "from aiidalab_widgets_base import CodeDropdown\n",
    "from aiidalab_widgets_base import ComputerDropdown\n",
    "from aiidalab_widgets_base import AiiDACodeSetup\n",
    "from aiidalab_widgets_base import AiidaComputerSetup\n",
    "\n",
    "\n",
    "class App(ipw.VBox):\n",
    "    \n",
    "    def __init__(self, **kwargs):\n",
    "        self.code_selector = CodeDropdown(\"quantumespresso.pw\")\n",
    "        self.code_setup = AiiDACodeSetup()\n",
    "        self.code_container = ipw.Accordion(children=[self.code_setup], selected_index=None)\n",
    "        self.code_container.set_title(0, \"Setup new code\")\n",
    "        self.codes = ipw.VBox([\n",
    "            self.code_selector,\n",
    "            self.code_container,\n",
    "        ])\n",
    "        self.computer_selector = ComputerDropdown()\n",
    "        self.computer_setup = AiidaComputerSetup()\n",
    "        self.computer_container = ipw.Accordion(children=[self.computer_setup], selected_index=None)\n",
    "        self.computer_container.set_title(0, \"Setup new computer\")\n",
    "        self.computers = ipw.VBox([\n",
    "            self.computer_selector,\n",
    "            self.computer_container,\n",
    "        ])\n",
    "        self.tab = ipw.Tab(children=[\n",
    "            self.codes,\n",
    "            self.computers,\n",
    "            ])\n",
    "        self.tab.set_title(0, \"Manage codes\")\n",
    "        self.tab.set_title(1, \"Manage computers\")\n",
    "        super().__init__(children=[\n",
    "                self.tab\n",
    "            ])\n",
    "        \n",
    "app = App()\n",
    "display(app)"
   ]
  }
 ],
 "metadata": {
  "kernelspec": {
   "display_name": "Python 3 (ipykernel)",
   "language": "python",
   "name": "python3"
  },
  "language_info": {
   "codemirror_mode": {
    "name": "ipython",
    "version": 3
   },
   "file_extension": ".py",
   "mimetype": "text/x-python",
   "name": "python",
   "nbconvert_exporter": "python",
   "pygments_lexer": "ipython3",
   "version": "3.7.9"
  }
 },
 "nbformat": 4,
 "nbformat_minor": 5
}
