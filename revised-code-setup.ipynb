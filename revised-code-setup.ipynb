{
 "cells": [
  {
   "cell_type": "code",
   "execution_count": null,
   "id": "a6c3b6b5",
   "metadata": {},
   "outputs": [],
   "source": [
    "import ipywidgets as ipw\n",
    "import traitlets\n",
    "from aiidalab_widgets_base import AiiDACodeSetup\n",
    "from aiidalab_widgets_base import CodeDatabaseWidget\n",
    "from aiidalab_widgets_base import SshComputerSetup\n",
    "from aiidalab_widgets_base import AiidaComputerSetup\n",
    "from aiidalab_widgets_base import ComputerDatabaseWidget"
   ]
  },
  {
   "cell_type": "code",
   "execution_count": null,
   "id": "49df3fcb",
   "metadata": {},
   "outputs": [],
   "source": [
    "code_selector = ipw.Dropdown(\n",
    "    description=\"pw.x\"\n",
    ")\n",
    "btn_refresh = ipw.Button(icon=\"refresh\", layout=ipw.Layout(width=\"32px\"), tooltip=\"Refresh\")\n",
    "btn_config = ipw.Button(icon=\"wrench\", layout=ipw.Layout(width=\"32px\"), tooltip=\"Configure\")\n",
    "\n",
    "aiida_code_setup = AiiDACodeSetup()\n",
    "setup = ipw.VBox()\n",
    "def toggle_setup(_):\n",
    "    toggled = len(setup.children)\n",
    "    \n",
    "    setup.box_style = \"\" if toggled else \"info\"\n",
    "    setup.children = [] if toggled else [ipw.HTML(\"<h4>Configure code</h4>\"), aiida_code_setup]\n",
    "\n",
    "btn_config.on_click(toggle_setup)\n",
    "    \n",
    "ipw.VBox(\n",
    "    [\n",
    "        ipw.HBox(\n",
    "            [\n",
    "                code_selector,\n",
    "                btn_refresh,\n",
    "                btn_config,\n",
    "            ],\n",
    "        ),\n",
    "        setup,\n",
    "    ]\n",
    ")"
   ]
  },
  {
   "cell_type": "code",
   "execution_count": null,
   "id": "7c99926c",
   "metadata": {},
   "outputs": [],
   "source": [
    "computer_setup = AiidaComputerSetup()\n",
    "code_setup = AiiDACodeSetup()\n",
    "\n",
    "root = ipw.Tab()\n",
    "root.children = [computer_setup, code_setup]\n",
    "root.set_title(0, \"Setup computer\")\n",
    "root.set_title(1, \"Setup code\")\n",
    "display(root)"
   ]
  }
 ],
 "metadata": {
  "kernelspec": {
   "display_name": "Python 3 (ipykernel)",
   "language": "python",
   "name": "python3"
  },
  "language_info": {
   "codemirror_mode": {
    "name": "ipython",
    "version": 3
   },
   "file_extension": ".py",
   "mimetype": "text/x-python",
   "name": "python",
   "nbconvert_exporter": "python",
   "pygments_lexer": "ipython3",
   "version": "3.7.9"
  }
 },
 "nbformat": 4,
 "nbformat_minor": 5
}
